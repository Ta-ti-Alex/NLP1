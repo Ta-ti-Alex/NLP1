{
  "nbformat": 4,
  "nbformat_minor": 0,
  "metadata": {
    "colab": {
      "provenance": []
    },
    "kernelspec": {
      "name": "python3",
      "display_name": "Python 3"
    },
    "language_info": {
      "name": "python"
    }
  },
  "cells": [
    {
      "cell_type": "markdown",
      "source": [
        "В рамках курсового проекта будет реализовано:\n",
        "\n",
        "Болталка с медицинской базой;\n",
        "Связь с  ChatGPT."
      ],
      "metadata": {
        "id": "6wttQ62jh9Xa"
      }
    }
  ]
}